{
 "cells": [
  {
   "cell_type": "code",
   "execution_count": 5,
   "metadata": {},
   "outputs": [],
   "source": [
    "from numpy import *\n",
    "import operator\n",
    "#import matplotlib\n",
    "\n",
    "def createDataSet():\n",
    "    group = array([[1.0,1.1],[1.0,1.0],[0,0],[0,0.1]])\n",
    "    labels = ['A','A','B','B']\n",
    "    return group,labels\n",
    "\n",
    "group,labels = createDataSet()"
   ]
  },
  {
   "cell_type": "markdown",
   "metadata": {},
   "source": [
    "以上代码的作用是创建了数据集和标记"
   ]
  },
  {
   "cell_type": "code",
   "execution_count": 6,
   "metadata": {},
   "outputs": [],
   "source": [
    "def classify(inx,dataset,labels,k):                \n",
    "    \n",
    "    datasetsize = dataset.shape[0]\n",
    "    diffmat = tile(inx,(datasetsize,1)) - dataset\n",
    "    sqdiffmat = diffmat**2                             \n",
    "    sqdistance = sqdiffmat.sum(axis=1)\n",
    "    distance = sqdistance**0.5                       #计算欧氏距离\n",
    "    \n",
    "    sorteddist = distance.argsort()\n",
    "    classcount = {}\n",
    "    for i in range(k):#遍历\n",
    "        votelabel = labels[sorteddist[i]]\n",
    "        classcount[votelabel] = classcount.get(votelabel,0) + 1      #精髓\n",
    "    sortedclasscount = sorted(classcount.items(),key=operator.itemgetter(1),reverse=True)\n",
    "    return sortedclasscount[0][0]"
   ]
  },
  {
   "cell_type": "markdown",
   "metadata": {},
   "source": [
    "对上述代码的说明：\n",
    "\n",
    "1. 关于“.”——python语言的精髓，沿袭的面向对象的思想；\n",
    "2. shape函数：shape(矩阵)返回矩阵的形状；shape[0]输出行数，shape[1]输出列数<font color=#FF0000>*N</font>；  \n",
    "        *N表示在kNN_notes文件中详细写了相应的说明\n",
    "3. tile函数：tile（A,B）把A重复B次；  \n",
    "    参考：[CSDN大佬关于tile函数的文章](https://blog.csdn.net/u014135752/article/details/79555005?ops_request_misc=%25257B%252522request%25255Fid%252522%25253A%252522161011702316780274169381%252522%25252C%252522scm%252522%25253A%25252220140713.130102334..%252522%25257D&request_id=161011702316780274169381&biz_id=0&utm_medium=distribute.pc_search_result.none-task-blog-2~all~sobaiduend~default-1-79555005.first_rank_v2_pc_rank_v29&utm_term=python%20tile)\n",
    "4. argsort()函数：将x中的元素从小到大排列，提取其对应的index(索引)，然后输出<font color=#FF0000>*N</font>\n",
    "5. python语言的精髓之一——字典：每个key对应一个values，key支持字符串类型，直接将key作为索引使用；  \n",
    "    可以使用花括号直接创建字典;  \n",
    "    关于python中括号的使用，参考:[震惊Python的精髓居然是方括号花括号和圆括号](https://blog.csdn.net/weixin_30618553/article/details/111980607?ops_request_misc=&request_id=&biz_id=102&utm_term=python%2520%2520=%257B%257D&utm_medium=distribute.pc_search_result.none-task-blog-2~all~sobaiduweb~default-1-111980607.first_rank_v2_pc_rank_v29)\n",
    "6. 上述代码的第13行——本程序的精髓：  \n",
    "    1）dict.get(key,x)：查字典<font color=#FF0000>*N</font>;  \n",
    "    2）之前建立了一个空字典，这行代码的作用时为空字典依次写入出现过的标签及其出现次数。\n",
    "7. classcount.items():将字典转换为一个数组输出；  \n",
    "\n",
    "++python语言的缩进是有含义的\n",
    "8. key=operator.itemgetter(1)：获取字典的第二个域，即key,参考：[Python中operator.itemgetter()的用法](https://blog.csdn.net/weixin_37922873/article/details/81210032?ops_request_misc=%25257B%252522request%25255Fid%252522%25253A%252522161012287816780277057250%252522%25252C%252522scm%252522%25253A%25252220140713.130102334..%252522%25257D&request_id=161012287816780277057250&biz_id=0&utm_medium=distribute.pc_search_result.none-task-blog-2~all~sobaiduend~default-1-81210032.first_rank_v2_pc_rank_v29&utm_term=operator.itemgetter(1));\n",
    "9. 程序低14行含义：将整个字典转换为一个数组，然后按照字典的value（也即标记出现次数）排序，排序方式为从大到小。"
   ]
  },
  {
   "cell_type": "code",
   "execution_count": 7,
   "metadata": {},
   "outputs": [
    {
     "name": "stdout",
     "output_type": "stream",
     "text": [
      "A\n"
     ]
    }
   ],
   "source": [
    "group,labels=createDataSet()\n",
    "print(classify([1,1],group,labels,3))"
   ]
  },
  {
   "cell_type": "markdown",
   "metadata": {},
   "source": [
    "调用classify函数，打印classify函数的返回值；\n",
    "其中，传入classify的参数有：  \n",
    "    [1,1]：被检测实例的特征值；  \n",
    "    group：预先定义的数据集的特征值数组；  \n",
    "    labels：预先定义的数据集的标记数组；\n",
    "    3：k的取值。"
   ]
  }
 ],
 "metadata": {
  "kernelspec": {
   "display_name": "Python 3",
   "language": "python",
   "name": "python3"
  },
  "language_info": {
   "codemirror_mode": {
    "name": "ipython",
    "version": 3
   },
   "file_extension": ".py",
   "mimetype": "text/x-python",
   "name": "python",
   "nbconvert_exporter": "python",
   "pygments_lexer": "ipython3",
   "version": "3.8.3"
  }
 },
 "nbformat": 4,
 "nbformat_minor": 4
}

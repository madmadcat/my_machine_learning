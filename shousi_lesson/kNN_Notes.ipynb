{
 "cells": [
  {
   "cell_type": "code",
   "execution_count": 1,
   "metadata": {},
   "outputs": [
    {
     "name": "stdout",
     "output_type": "stream",
     "text": [
      "(3, 4)\n",
      "3\n",
      "4\n"
     ]
    }
   ],
   "source": [
    "import numpy as np\n",
    "k = np.matrix([[1, 2, 3, 4],\n",
    "             [5, 6, 7, 8],\n",
    "             [9, 10, 11, 12]])\n",
    "print(np.shape(k))       # 输出（3，4）表示矩阵为3行4列\n",
    "print(k.shape[0])        # shape[0]输出3，为矩阵的行数\n",
    "print(k.shape[1])        # 同理shape[1]输出列数"
   ]
  },
  {
   "cell_type": "markdown",
   "metadata": {},
   "source": [
    "上述代码说明shape的作用是测量矩阵的尺寸；  \n",
    "当使用圆括号时，输入参数为矩阵，输出行和列；\n",
    "当使用方括号内填入0或1时分别输出行或列数值，此时使用“.”进行调用。"
   ]
  },
  {
   "cell_type": "code",
   "execution_count": 2,
   "metadata": {},
   "outputs": [
    {
     "name": "stdout",
     "output_type": "stream",
     "text": [
      "  [3 0 2 1 4 5] \n",
      " [-1, 1, 3, 4, 6, 9]\n"
     ]
    }
   ],
   "source": [
    "x = np.array([1,4,3,-1,6,9])\n",
    "y = sorted(x)\n",
    "index = x.argsort()\n",
    "print(' ',index,'\\n',y)"
   ]
  },
  {
   "cell_type": "markdown",
   "metadata": {},
   "source": [
    "上述代码表明，argsort()函数是将x中的元素从小到大排列，提取其对应的index(索引)，然后输出;  \n",
    "对该函数名的记忆：arg表示角标，sort意味排序；\n",
    "另外，上述代码还演示了常见排序函数sorted的作用；\n",
    "进一步学习可参考：[CSDN大佬的文章](https://blog.csdn.net/java276582434/article/details/90812971?ops_request_misc=%25257B%252522request%25255Fid%252522%25253A%252522161011862516780262036523%252522%25252C%252522scm%252522%25253A%25252220140713.130102334..%252522%25257D&request_id=161011862516780262036523&biz_id=0&utm_medium=distribute.pc_search_result.none-task-blog-2~all~top_click~default-1-90812971.first_rank_v2_pc_rank_v29&utm_term=sort%20python)"
   ]
  },
  {
   "cell_type": "code",
   "execution_count": 2,
   "metadata": {},
   "outputs": [
    {
     "data": {
      "text/plain": [
       "'two'"
      ]
     },
     "execution_count": 2,
     "metadata": {},
     "output_type": "execute_result"
    }
   ],
   "source": [
    "dict = {'1':'one','2':'two','3':'three'}\n",
    "dict.get('2',0)"
   ]
  },
  {
   "cell_type": "code",
   "execution_count": 3,
   "metadata": {},
   "outputs": [
    {
     "data": {
      "text/plain": [
       "1"
      ]
     },
     "execution_count": 3,
     "metadata": {},
     "output_type": "execute_result"
    }
   ],
   "source": [
    "dict.get('4',0) + 1"
   ]
  },
  {
   "cell_type": "markdown",
   "metadata": {},
   "source": [
    "上述两个模块演示了查字典.get()的用法，过于简单，无需说明"
   ]
  },
  {
   "cell_type": "code",
   "execution_count": null,
   "metadata": {},
   "outputs": [],
   "source": []
  }
 ],
 "metadata": {
  "kernelspec": {
   "display_name": "Python 3",
   "language": "python",
   "name": "python3"
  },
  "language_info": {
   "codemirror_mode": {
    "name": "ipython",
    "version": 3
   },
   "file_extension": ".py",
   "mimetype": "text/x-python",
   "name": "python",
   "nbconvert_exporter": "python",
   "pygments_lexer": "ipython3",
   "version": "3.8.3"
  }
 },
 "nbformat": 4,
 "nbformat_minor": 4
}
